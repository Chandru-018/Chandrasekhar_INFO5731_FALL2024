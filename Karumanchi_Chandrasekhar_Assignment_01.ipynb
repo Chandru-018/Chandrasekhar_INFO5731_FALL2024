{
  "cells": [
    {
      "cell_type": "markdown",
      "metadata": {
        "id": "view-in-github"
      },
      "source": [
        "<a href=\"https://colab.research.google.com/github/unt-iialab/INFO5731_Spring2020/blob/master/Assignments/INFO5731_Assignment_One.ipynb\" target=\"_parent\"><img src=\"https://colab.research.google.com/assets/colab-badge.svg\" alt=\"Open In Colab\"/></a>"
      ]
    },
    {
      "cell_type": "markdown",
      "metadata": {
        "id": "Ryk8D1Q4Wsrp"
      },
      "source": [
        "# **INFO5731 Assignment One**"
      ]
    },
    {
      "cell_type": "markdown",
      "source": [
        "This assignment includes range of programming tasks and data analysis exercises, aiming to enhance your Python skills and proficiency in string manipulation, numerical computations, and data science. Follow the instructions carefully and design well-structured Python programs to address each question.\n",
        "\n",
        "Late Submission will have a penalty of 10% reduction for each day after the deadline."
      ],
      "metadata": {
        "id": "qcP6re2g5A5r"
      }
    },
    {
      "cell_type": "markdown",
      "metadata": {
        "id": "JkzR8cFAyGik"
      },
      "source": [
        "# Question 1 (10 points).\n",
        "\n",
        "The formula that describes the volume V of a hemisphere with radius r is the following:\n",
        "\n",
        "$ V=\\frac{2}{3}\\ast\\ \\pi\\ast\\ r^3 $\n",
        "\n",
        "Write a program to calculate the value of V when r is in the range of even numbers from 1-20. Output the result in the following format:\n",
        "\n",
        "\tr\tV\n",
        "\t2\t…\n",
        "\t4\t…\n",
        "\t6\t…\n",
        "\t.\n",
        "\t.\n",
        "\t.\n",
        "\t20\t…\n"
      ]
    },
    {
      "cell_type": "code",
      "execution_count": 2,
      "metadata": {
        "id": "jDyTKYs-yGit",
        "colab": {
          "base_uri": "https://localhost:8080/"
        },
        "outputId": "9e0072bd-e08b-44ea-d7f4-63018ce5324f"
      },
      "outputs": [
        {
          "output_type": "stream",
          "name": "stdout",
          "text": [
            "Even number | Volume of V\n",
            "\n",
            "2            | 16.7552\n",
            "4            | 134.0413\n",
            "6            | 452.3893\n",
            "8            | 1072.3303\n",
            "10           | 2094.3951\n",
            "12           | 3619.1147\n",
            "14           | 5747.0202\n",
            "16           | 8578.6423\n",
            "18           | 12214.5122\n",
            "20           | 16755.1608\n"
          ]
        }
      ],
      "source": [
        "import math\n",
        "print(\"Even number | Volume of V\")\n",
        "print(\"\")\n",
        "\n",
        "for r in range(2, 21, 2):\n",
        "    V = (2 / 3) * math.pi * (r ** 3)\n",
        "    print(f\"{r:<12} | {V:.4f}\")"
      ]
    },
    {
      "cell_type": "markdown",
      "metadata": {
        "id": "90_NR8c5XGWc"
      },
      "source": [
        "# Question 2 (20 points)\n",
        "\n",
        "(a) Write a Python program to generate a sequence of 12 random numbers falling within the range of 50 to 150.\n",
        "\n",
        "(b) Arrange the generated numbers in ascending order. Display the sorted list.\n",
        "\n",
        "(c) Extend the program to arrange the numbers in descending order as well. Present the sorted list accordingly.\n",
        "\n",
        "(d) Compute and output the average of the entire group of generated numbers.\n",
        "\n",
        "(e) Enhance the program to calculate and display the average of the first 6 numbers from both the ascending and descending sorted lists."
      ]
    },
    {
      "cell_type": "code",
      "execution_count": 3,
      "metadata": {
        "id": "5QX6bJjGWXY9",
        "colab": {
          "base_uri": "https://localhost:8080/"
        },
        "outputId": "619f1baa-854e-4f2c-8a2d-2ca8caf588cc"
      },
      "outputs": [
        {
          "output_type": "stream",
          "name": "stdout",
          "text": [
            "Ascending Order: [63, 82, 85, 94, 111, 125, 127, 129, 129, 136, 147, 150]\n",
            "Descending Order: [150, 147, 136, 129, 129, 127, 125, 111, 94, 85, 82, 63]\n",
            "Average of all numbers: 114.83\n",
            "Average of the first 6 numbers (Ascending): 93.33\n",
            "Average of the first 6 numbers (Descending): 136.33\n"
          ]
        }
      ],
      "source": [
        "# Write code for each of the sub parts with proper comments.\n",
        "import random\n",
        "\n",
        "# (a) Create a sequence of 12 random digits in the range 50 to 150\n",
        "digits = [random.randint(50, 150) for _ in range(12)]\n",
        "\n",
        "# (b) Arrange the generated digits in ascending order and display\n",
        "sorted_ascending = sorted(digits)\n",
        "print(\"Ascending Order:\", sorted_ascending)\n",
        "\n",
        "# (c) Arrange the generated digits in descending order and display\n",
        "sorted_descending = sorted(digits, reverse=True)\n",
        "print(\"Descending Order:\", sorted_descending)\n",
        "\n",
        "# (d) Compute and output the average of the entire group of generated numbers\n",
        "average_all = sum(digits) / len(digits)\n",
        "print(f\"Average of all numbers: {average_all:.2f}\")\n",
        "\n",
        "# (e) Compute and display the average of the first 6 numbers from both sorted lists\n",
        "average_first_6_ascending = sum(sorted_ascending[:6]) / 6\n",
        "average_first_6_descending = sum(sorted_descending[:6]) / 6\n",
        "\n",
        "print(f\"Average of the first 6 numbers (Ascending): {average_first_6_ascending:.2f}\")\n",
        "print(f\"Average of the first 6 numbers (Descending): {average_first_6_descending:.2f}\")\n",
        "\n"
      ]
    },
    {
      "cell_type": "markdown",
      "metadata": {
        "id": "1F_PZdH9Sh49"
      },
      "source": [
        "# Question 3 (20 points).\n",
        "\n",
        "Create a Python program that encompasses various string manipulation task:\n",
        "\n",
        "(a) Prompt the user to input two sentences.\n",
        "\n",
        "(b) Transform each sentence into a list, where each element corresponds to a word in the sentence. For example, if the sentences are \"Hello, how are you doing today?\" and \"This is an example sentence for the program!\"\n",
        "\n",
        "The program should output:\n",
        "['Hello', ',', 'how', 'are', 'you', 'doing', 'today', '?', 'This', 'is', 'an', 'example', 'sentence', 'for', 'the', 'program', '!']\n",
        "\n",
        "(c) Compare the two sentences. Print out a list of words that occur in both sentences.\n",
        "\n",
        "(d) Remove any punctuation from the sentence and print the sanitized sentences. It should remove at least the following characters, but it can remove more: period(“.”), comma (“,”), semicolon (“;”), and colon (“:”).\n",
        "\n",
        "(e) Count the number of vowels in each of the sentences. Print out each vowel and the occurrences  in the each of the two sentences separately, such as:\n",
        "\n",
        "Sentence1: a:2, e:2, i:0, etc.\n",
        "Sentence2: a:1, e:2, i:2, etc.\n",
        "\n",
        "Design a well-structured Python program to execute these tasks efficiently."
      ]
    },
    {
      "cell_type": "code",
      "execution_count": 5,
      "metadata": {
        "id": "Y0oOSlsOS0cq",
        "colab": {
          "base_uri": "https://localhost:8080/"
        },
        "outputId": "8856c13b-d497-4d7e-bd4b-45d46a8ef0ca"
      },
      "outputs": [
        {
          "output_type": "stream",
          "name": "stdout",
          "text": [
            "Enter sentence 1: fvfvf\n",
            "Enter sentence 2: efvef\n",
            "Combined List of Words: ['fvfvf', 'efvef']\n",
            "Common Words: []\n",
            "Updated Sentence 1: fvfvf\n",
            "Updated Sentence 2: efvef\n",
            "Sentence 1 Vowel Counts: a:0, e:0, i:0, o:0, u:0\n",
            "Sentence 2 Vowel Counts: a:0, e:2, i:0, o:0, u:0\n"
          ]
        }
      ],
      "source": [
        "import string\n",
        "\n",
        "def remove_punctuation(sentence):\n",
        "    return sentence.translate(str.maketrans('', '', string.punctuation))\n",
        "\n",
        "def count_vowels(sentence):\n",
        "    vowels = 'aeiou'\n",
        "    vowel_count = {v: sentence.lower().count(v) for v in vowels}\n",
        "    return vowel_count\n",
        "\n",
        "def main():\n",
        "    s1 = input(\"Enter sentence 1: \")\n",
        "    s2 = input(\"Enter sentence 2: \")\n",
        "\n",
        "    words1 = s1.split()\n",
        "    words2 = s2.split()\n",
        "    combined_words = words1 + words2\n",
        "    print(\"Combined List of Words:\", combined_words)\n",
        "\n",
        "    common_words = set(words1).intersection(words2)\n",
        "    print(\"Common Words:\", list(common_words))\n",
        "\n",
        "    Updated_s1 = remove_punctuation(s1)\n",
        "    Updated_s2 = remove_punctuation(s2)\n",
        "    print(\"Updated Sentence 1:\", Updated_s1)\n",
        "    print(\"Updated Sentence 2:\", Updated_s2)\n",
        "\n",
        "    vowel_count1 = count_vowels(s1)\n",
        "    vowel_count2 = count_vowels(s2)\n",
        "\n",
        "    print(\"Sentence 1 Vowel Counts:\", ', '.join(f\"{v}:{c}\" for v, c in vowel_count1.items()))\n",
        "    print(\"Sentence 2 Vowel Counts:\", ', '.join(f\"{v}:{c}\" for v, c in vowel_count2.items()))\n",
        "\n",
        "if __name__ == \"__main__\":\n",
        "    main()\n",
        "\n"
      ]
    },
    {
      "cell_type": "markdown",
      "source": [
        "# Question 4 (20 Points)"
      ],
      "metadata": {
        "id": "OP4-5qxAtInv"
      }
    },
    {
      "cell_type": "markdown",
      "source": [
        "Design and implement a simple command-line calculator program. The program should handle both integers and floating-point numbers.\n",
        "\n",
        "(a) Write program that takes a mathematical expression as input and evaluates it. The program should support addition, subtraction, multiplication, and division.\n",
        "\n",
        "(b) Extend the calculator to handle parentheses in mathematical expressions. Implement the necessary logic to evaluate expressions with nested parentheses.\n",
        "\n",
        "(c) Enhance your calculator to include additional mathematical operations such as exponentiation, square root, and modulus.\n",
        "\n",
        "(d) Implement error handling in the calculator program. Handle cases such as division by zero and invalid input expressions. Provide meaningful error messages.\n",
        "\n",
        "(e) Implement a command to exit the calculator."
      ],
      "metadata": {
        "id": "uzN4_hDptK9U"
      }
    },
    {
      "cell_type": "code",
      "source": [
        "import math\n",
        "\n",
        "def evaluate_expression(expression):\n",
        "    try:\n",
        "        result = eval(expression, {\"__builtins__\": None}, math.__dict__)\n",
        "        return result\n",
        "    except ZeroDivisionError:\n",
        "        return \"Error: Division by zero\"\n",
        "    except Exception as e:\n",
        "        return f\"Error: {e}\"\n",
        "\n",
        "def main():\n",
        "    print(\"Calculator\")\n",
        "    print(\"Compatible operations: +, -, *, /, ** (exponentiation), sqrt (square root), % (modulus)\")\n",
        "    print(\"Type 'exit' to quit the calculator.\")\n",
        "\n",
        "    while True:\n",
        "        exp = input(\"Enter expression: \")\n",
        "        if exp.lower() == 'out':\n",
        "            print(\"Exit calculator.\")\n",
        "            break\n",
        "\n",
        "        result = evaluate_expression(exp)\n",
        "        print(\"Result:\", result)\n",
        "\n",
        "if __name__ == \"__main__\":\n",
        "    main()\n"
      ],
      "metadata": {
        "id": "8nQnVxjJuYtu",
        "colab": {
          "base_uri": "https://localhost:8080/"
        },
        "outputId": "76775e89-9b41-45e2-c324-175a21ab1806"
      },
      "execution_count": null,
      "outputs": [
        {
          "output_type": "stream",
          "name": "stdout",
          "text": [
            "Calculator\n",
            "Compatible operations: +, -, *, /, ** (exponentiation), sqrt (square root), % (modulus)\n",
            "Type 'exit' to quit the calculator.\n"
          ]
        }
      ]
    },
    {
      "cell_type": "markdown",
      "metadata": {
        "id": "z3tBE7E-Xn5X"
      },
      "source": [
        "# Question 5 (30 points).\n",
        "\n",
        "In the field of Data Science, data is often formatted as a comma-delimited (CSV) file, where each line in a file corresponds to a field's value. Refer to Chapter 9 (p. 106) for more information on comma-delimited files.\n",
        "\n",
        "To answer this question, you will need to download the file [Assignment1_denton_housing.csv](https://raw.githubusercontent.com/unt-iialab/info5731-spring2022/main/assignments/Assignment1_denton_housing.csv) included with this assignment. The file contains statistics about housing in the city of Denton from 2008 to 2014. Write a program to implement the following questions.\n",
        "\n",
        "(a) (5 pts) Calculate the difference in the number of Occupied Housing Units from year to year and print it. The difference must be calculated for the consecutive years such as 2008-2009, 2009-2010 etc. Finally, print the values in the ascending order.\n",
        "\n",
        "(b) (5 pts) For all the years, calculate the percentage of housing units which are vacant an occupied. Print the results in the following format:\n",
        "\n",
        "Year Vacant Housing Units Occupied Housing Units\n",
        "\n",
        "    2008  30%   70%                          \n",
        "\t2009 ----- -----\n",
        "\t2010 ----- -----\n",
        "    2011 ----- -----\n",
        "\t2012 ----- -----\n",
        "    2013 ----- -----\n",
        "\t2014 ----- -----\n",
        "  \n",
        "  \n",
        "\n",
        "(c) (10 pts) Calculate and print the valued and years in which the highest number of housing units were vacant and occupied. Print the results in the following format:  \n",
        "\n",
        "                              Year\tValue\n",
        "\tVacant Housing Units\t  -----   -----\n",
        "\tOccupied Housing Units\t-----   -----\n",
        "\n",
        "(d) (10 pts) Calculate the harmonic mean of the total housing units and print it out. You can find the information about harmonic mean here: https://ncalculators.com/statistics/harmonic-mean-calculator.htm"
      ]
    },
    {
      "cell_type": "code",
      "source": [
        "import pandas as pd\n",
        "from statistics import harmonic_mean\n",
        "\n",
        "file_path = 'Assignment1_denton_housing.csv'\n",
        "df = pd.read_csv(file_path)\n",
        "\n",
        "df_pivot = df.pivot(index='year', columns='title_field', values='value')\n",
        "\n",
        "df_pivot.sort_index(inplace=True)\n",
        "\n",
        "occupied_units = df_pivot['Occupied Housing Units']\n",
        "difference = occupied_units.diff().dropna()\n",
        "difference_sorted = difference.sort_values()\n",
        "print(\"Difference in Occupied Housing Units (sorted):\")\n",
        "print(difference_sorted)\n",
        "\n",
        "total_units = df_pivot['Total Housing Units']\n",
        "vacant_units = df_pivot['Vacant Housing Units']\n",
        "occupied_units = df_pivot['Occupied Housing Units']\n",
        "\n",
        "percentage_vacant = (vacant_units / total_units) * 100\n",
        "percentage_occupied = (occupied_units / total_units) * 100\n",
        "\n",
        "print(\"\\nYear | Vacant Housing Units | Occupied Housing Units\")\n",
        "for year in df_pivot.index:\n",
        "    print(f\"{year} | {percentage_vacant[year]:.2f}% | {percentage_occupied[year]:.2f}%\")\n",
        "\n",
        "max_vacant_year = vacant_units.idxmax()\n",
        "max_vacant_value = vacant_units.max()\n",
        "\n",
        "max_occupied_year = occupied_units.idxmax()\n",
        "max_occupied_value = occupied_units.max()\n",
        "\n",
        "print(f\"\\nVacant Housing Units: Year {max_vacant_year}, Value {max_vacant_value}\")\n",
        "print(f\"Occupied Housing Units: Year {max_occupied_year}, Value {max_occupied_value}\")\n",
        "\n",
        "harmonic_mean_total_units = harmonic_mean(total_units.dropna())\n",
        "\n",
        "print(f\"\\nHarmonic Mean of Total Housing Units: {harmonic_mean_total_units:.2f}\")"
      ],
      "metadata": {
        "id": "OIqE_yOZ0M04"
      },
      "execution_count": null,
      "outputs": []
    },
    {
      "cell_type": "markdown",
      "source": [
        "# Mandatory Question\n",
        "\n",
        "Provide your thoughts on the assignment. What did you find challenging, and what aspects did you enjoy? Your opinion on the provided time to complete the assignment. Share any suggestions for improvement. Your feedback will be valuable for enhancing the learning experience."
      ],
      "metadata": {
        "id": "q8BFCvWp32cf"
      }
    },
    {
      "cell_type": "code",
      "source": [
        "I enjoyed learning the assignment. As a beginner, It is challenging at first but i could learn many things now. fifth question is a bit challenging for me. I feel beginners like me needs atleast onw week time to complete this assignment. I will book appointment with TA and spend more time to get this overcome."
      ],
      "metadata": {
        "id": "_e557s2w4BpK"
      },
      "execution_count": null,
      "outputs": []
    }
  ],
  "metadata": {
    "colab": {
      "provenance": []
    },
    "kernelspec": {
      "display_name": "Python 3 (ipykernel)",
      "language": "python",
      "name": "python3"
    },
    "language_info": {
      "codemirror_mode": {
        "name": "ipython",
        "version": 3
      },
      "file_extension": ".py",
      "mimetype": "text/x-python",
      "name": "python",
      "nbconvert_exporter": "python",
      "pygments_lexer": "ipython3",
      "version": "3.9.12"
    }
  },
  "nbformat": 4,
  "nbformat_minor": 0
}