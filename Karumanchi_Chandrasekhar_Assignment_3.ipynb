{
  "cells": [
    {
      "cell_type": "markdown",
      "metadata": {
        "id": "view-in-github",
        "colab_type": "text"
      },
      "source": [
        "<a href=\"https://colab.research.google.com/github/Chandru-018/Chandrasekhar_INFO5731_FALL2024/blob/main/Karumanchi_Chandrasekhar_Assignment_3.ipynb\" target=\"_parent\"><img src=\"https://colab.research.google.com/assets/colab-badge.svg\" alt=\"Open In Colab\"/></a>"
      ]
    },
    {
      "cell_type": "markdown",
      "metadata": {
        "id": "Ryk8D1Q4Wsrp"
      },
      "source": [
        "# **INFO5731 Assignment 3**\n",
        "\n",
        "In this assignment, we will delve into various aspects of natural language processing (NLP) and text analysis. The tasks are designed to deepen your understanding of key NLP concepts and techniques, as well as to provide hands-on experience with practical applications.\n",
        "\n",
        "Through these tasks, you'll gain practical experience in NLP techniques such as N-gram analysis, TF-IDF, word embedding model creation, and sentiment analysis dataset creation.\n",
        "\n",
        "**Expectations**:\n",
        "*   Use the provided .*ipynb* document to write your code & respond to the questions. Avoid generating a new file.\n",
        "*   Write complete answers and run all the cells before submission.\n",
        "*   Make sure the submission is \"clean\"; *i.e.*, no unnecessary code cells.\n",
        "*   Once finished, allow shared rights from top right corner (*see Canvas for details*).\n",
        "\n",
        "\n",
        "**Total points**: 100\n",
        "\n",
        "**Deadline**: See Canvas\n",
        "\n",
        "**Late Submission will have a penalty of 10% reduction for each day after the deadline.**\n"
      ]
    },
    {
      "cell_type": "markdown",
      "metadata": {
        "id": "JkzR8cFAyGik"
      },
      "source": [
        "## Question 1 (30 points)\n",
        "\n",
        "**Understand N-gram**\n",
        "\n",
        "Write a python program to conduct N-gram analysis based on the dataset in your assignment two. You need to write codes from scratch instead of using any pre-existing libraries to do so:\n",
        "\n",
        "(1) Count the frequency of all the N-grams (N=3).\n",
        "\n",
        "(2) Calculate the probabilities for all the bigrams in the dataset by using the fomular count(w2 w1) / count(w2). For example, count(really like) / count(really) = 1 / 3 = 0.33.\n",
        "\n",
        "(3) Extract all the noun phrases and calculate the relative probabilities of each review in terms of other reviews (abstracts, or tweets) by using the fomular frequency (noun phrase) / max frequency (noun phrase) on the whole dataset. Print out the result in a table with column name the all the noun phrases and row name as all the 100 reviews (abstracts, or tweets)."
      ]
    },
    {
      "cell_type": "code",
      "execution_count": 1,
      "metadata": {
        "id": "9v8IikDpqrxn",
        "colab": {
          "base_uri": "https://localhost:8080/"
        },
        "outputId": "334d27cf-c138-46b9-dd92-52e4133120e5"
      },
      "outputs": [
        {
          "output_type": "stream",
          "name": "stdout",
          "text": [
            "Trigram Frequencies:\n",
            "('i', 'really', 'like'): 2\n",
            "('really', 'like', 'this'): 1\n",
            "('like', 'this', 'product'): 1\n",
            "('this', 'product', 'it'): 1\n",
            "('product', 'it', 'works'): 2\n",
            "('it', 'works', 'well'): 1\n",
            "('this', 'is', 'an'): 1\n",
            "('is', 'an', 'amazing'): 1\n",
            "('an', 'amazing', 'product'): 1\n",
            "('amazing', 'product', 'i'): 1\n",
            "('product', 'i', 'really'): 1\n",
            "('really', 'like', 'it'): 1\n",
            "('worst', 'product', 'ever'): 1\n",
            "('product', 'ever', 'do'): 1\n",
            "('ever', 'do', 'not'): 1\n",
            "('do', 'not', 'buy'): 1\n",
            "('not', 'buy', 'it'): 1\n",
            "('highly', 'recommend', 'this'): 1\n",
            "('recommend', 'this', 'amazing'): 1\n",
            "('this', 'amazing', 'product'): 1\n",
            "('amazing', 'product', 'it'): 1\n",
            "('it', 'works', 'perfectly'): 1\n",
            "\n",
            "Bigram Probabilities:\n",
            "P(really | i) = 1.00\n",
            "P(like | really) = 1.00\n",
            "P(this | like) = 0.50\n",
            "P(product | this) = 0.33\n",
            "P(it | product) = 0.50\n",
            "P(works | it) = 1.00\n",
            "P(well | works) = 0.50\n",
            "P(is | this) = 0.33\n",
            "P(an | is) = 1.00\n",
            "P(amazing | an) = 1.00\n",
            "P(product | amazing) = 1.00\n",
            "P(i | product) = 0.25\n",
            "P(it | like) = 0.50\n",
            "P(product | worst) = 1.00\n",
            "P(ever | product) = 0.25\n",
            "P(do | ever) = 1.00\n",
            "P(not | do) = 1.00\n",
            "P(buy | not) = 1.00\n",
            "P(it | buy) = 1.00\n",
            "P(recommend | highly) = 1.00\n",
            "P(this | recommend) = 1.00\n",
            "P(amazing | this) = 0.33\n",
            "P(perfectly | works) = 0.50\n",
            "\n",
            "Relative Noun Phrase Frequencies (per review):\n",
            "   i really  really like  like this  this product  product it  it works  \\\n",
            "0       0.5          0.5        0.5           0.5         0.5       0.5   \n",
            "1       0.5          0.5        0.0           0.0         0.0       0.0   \n",
            "2       0.0          0.0        0.0           0.0         0.0       0.0   \n",
            "3       0.0          0.0        0.0           0.0         0.5       0.5   \n",
            "\n",
            "   works well  this is  is an  an amazing  ...  worst product  product ever  \\\n",
            "0         0.5      0.0    0.0         0.0  ...            0.0           0.0   \n",
            "1         0.0      0.5    0.5         0.5  ...            0.0           0.0   \n",
            "2         0.0      0.0    0.0         0.0  ...            0.5           0.5   \n",
            "3         0.0      0.0    0.0         0.0  ...            0.0           0.0   \n",
            "\n",
            "   ever do  do not  not buy  buy it  highly recommend  recommend this  \\\n",
            "0      0.0     0.0      0.0     0.0               0.0             0.0   \n",
            "1      0.0     0.0      0.0     0.0               0.0             0.0   \n",
            "2      0.5     0.5      0.5     0.5               0.0             0.0   \n",
            "3      0.0     0.0      0.0     0.0               0.5             0.5   \n",
            "\n",
            "   this amazing  works perfectly  \n",
            "0           0.0              0.0  \n",
            "1           0.0              0.0  \n",
            "2           0.0              0.0  \n",
            "3           0.5              0.5  \n",
            "\n",
            "[4 rows x 23 columns]\n"
          ]
        }
      ],
      "source": [
        "import re\n",
        "from collections import defaultdict\n",
        "import pandas as pd\n",
        "from itertools import combinations\n",
        "\n",
        "# Sample dataset (replace with your actual dataset)\n",
        "reviews = [\n",
        "    \"I really like this product. It works well.\",\n",
        "    \"This is an amazing product, I really like it.\",\n",
        "    \"Worst product ever. Do not buy it.\",\n",
        "    \"Highly recommend this amazing product, it works perfectly.\"\n",
        "]\n",
        "\n",
        "# Step 1: Count trigrams (N=3)\n",
        "def count_ngrams(reviews, n=3):\n",
        "    ngram_counts = defaultdict(int)\n",
        "\n",
        "    # Iterate over each review\n",
        "    for review in reviews:\n",
        "        # Tokenize the review (simple space-based tokenizer)\n",
        "        words = re.findall(r'\\b\\w+\\b', review.lower())  # lowercasing and word boundary\n",
        "\n",
        "        # Generate n-grams\n",
        "        for i in range(len(words) - n + 1):\n",
        "            ngram = tuple(words[i:i + n])\n",
        "            ngram_counts[ngram] += 1\n",
        "\n",
        "    return ngram_counts\n",
        "\n",
        "# Count trigrams in the dataset\n",
        "trigram_counts = count_ngrams(reviews, n=3)\n",
        "\n",
        "# Display the trigram frequencies\n",
        "print(\"Trigram Frequencies:\")\n",
        "for trigram, count in trigram_counts.items():\n",
        "    print(f\"{trigram}: {count}\")\n",
        "\n",
        "# Step 2: Calculate bigram probabilities\n",
        "def calculate_bigram_probabilities(reviews):\n",
        "    # Count unigrams and bigrams\n",
        "    unigram_counts = defaultdict(int)\n",
        "    bigram_counts = defaultdict(int)\n",
        "\n",
        "    for review in reviews:\n",
        "        words = re.findall(r'\\b\\w+\\b', review.lower())\n",
        "\n",
        "        # Count unigrams and bigrams\n",
        "        for i in range(len(words) - 1):\n",
        "            unigram_counts[words[i]] += 1\n",
        "            bigram_counts[(words[i], words[i+1])] += 1\n",
        "\n",
        "    bigram_probabilities = defaultdict(float)\n",
        "\n",
        "    # Calculate bigram probabilities\n",
        "    for bigram, count in bigram_counts.items():\n",
        "        w1 = bigram[0]\n",
        "        probability = count / unigram_counts[w1]\n",
        "        bigram_probabilities[bigram] = probability\n",
        "\n",
        "    return bigram_probabilities\n",
        "\n",
        "# Calculate bigram probabilities\n",
        "bigram_probabilities = calculate_bigram_probabilities(reviews)\n",
        "\n",
        "# Display the bigram probabilities\n",
        "print(\"\\nBigram Probabilities:\")\n",
        "for bigram, prob in bigram_probabilities.items():\n",
        "    print(f\"P({bigram[1]} | {bigram[0]}) = {prob:.2f}\")\n",
        "\n",
        "# Step 3: Extract noun phrases (simple extraction based on assumption of noun sequences)\n",
        "def extract_noun_phrases(reviews):\n",
        "    noun_phrases = defaultdict(int)\n",
        "\n",
        "    for review in reviews:\n",
        "        words = re.findall(r'\\b\\w+\\b', review.lower())\n",
        "\n",
        "        # Assuming noun phrases are sequences of nouns (we simplify this approach)\n",
        "        for i in range(len(words) - 1):\n",
        "            noun_phrase = ' '.join(words[i:i+2])  # Consider pairs of words as noun phrases\n",
        "            noun_phrases[noun_phrase] += 1\n",
        "\n",
        "    return noun_phrases\n",
        "\n",
        "# Extract noun phrases from the reviews\n",
        "noun_phrases = extract_noun_phrases(reviews)\n",
        "\n",
        "# Step 4: Calculate relative noun phrase frequencies for each review\n",
        "def calculate_relative_noun_phrase_frequencies(reviews, noun_phrases):\n",
        "    max_freq = max(noun_phrases.values())\n",
        "\n",
        "    # Create a dataframe to store relative frequencies for each review\n",
        "    noun_phrase_matrix = []\n",
        "\n",
        "    for review in reviews:\n",
        "        review_noun_phrases = extract_noun_phrases([review])\n",
        "        relative_frequencies = {}\n",
        "\n",
        "        # Calculate relative frequency for each noun phrase\n",
        "        for noun_phrase in noun_phrases:\n",
        "            freq = review_noun_phrases.get(noun_phrase, 0)\n",
        "            relative_frequencies[noun_phrase] = freq / max_freq\n",
        "\n",
        "        noun_phrase_matrix.append(relative_frequencies)\n",
        "\n",
        "    # Create DataFrame from the matrix\n",
        "    noun_phrase_df = pd.DataFrame(noun_phrase_matrix)\n",
        "    return noun_phrase_df\n",
        "\n",
        "# Calculate relative frequencies\n",
        "noun_phrase_df = calculate_relative_noun_phrase_frequencies(reviews, noun_phrases)\n",
        "\n",
        "# Display the result in a table (for all reviews)\n",
        "print(\"\\nRelative Noun Phrase Frequencies (per review):\")\n",
        "print(noun_phrase_df)\n",
        "\n"
      ]
    },
    {
      "cell_type": "markdown",
      "metadata": {
        "id": "90_NR8c5XGWc"
      },
      "source": [
        "## Question 2 (25 points)\n",
        "\n",
        "**Undersand TF-IDF and Document representation**\n",
        "\n",
        "Starting from the documents (all the reviews, or abstracts, or tweets) collected for assignment two, write a python program:\n",
        "\n",
        "(1) To build the documents-terms weights (tf * idf) matrix.\n",
        "\n",
        "(2) To rank the documents with respect to query (design a query by yourself, for example, \"An Outstanding movie with a haunting performance and best character development\") by using cosine similarity.\n",
        "\n",
        "Note: You need to write codes from scratch instead of using any pre-existing libraries to do so."
      ]
    },
    {
      "cell_type": "code",
      "execution_count": 11,
      "metadata": {
        "id": "LjN0iysvo9-n",
        "colab": {
          "base_uri": "https://localhost:8080/"
        },
        "outputId": "937ecbdf-fe1c-4327-e60d-99a1ac196f2c"
      },
      "outputs": [
        {
          "output_type": "stream",
          "name": "stdout",
          "text": [
            "Ranking of Documents based on the Query:\n",
            "Document: All our dreams can come true, if we have the courage to pursue them.\n",
            "Cosine Similarity: 1.0000\n",
            "--------------------------------------------------\n",
            "Document: Success is not final; failure is not fatal: It is the courage to continue that counts.\n",
            "Cosine Similarity: 0.0298\n",
            "--------------------------------------------------\n",
            "Document: Develop success from failures. Discouragement and failure are two of the surest stepping stones to success.\n",
            "Cosine Similarity: 0.0035\n",
            "--------------------------------------------------\n",
            "Document: In the midst of movement and chaos, keep stillness inside of you.\n",
            "Cosine Similarity: 0.0019\n",
            "--------------------------------------------------\n",
            "Document: Always bear in mind that your own resolution to success is more important than any other one thing.\n",
            "Cosine Similarity: 0.0015\n",
            "--------------------------------------------------\n"
          ]
        }
      ],
      "source": [
        "import math\n",
        "import re\n",
        "import numpy as np\n",
        "\n",
        "# dataset\n",
        "documents = [\n",
        "    \"All our dreams can come true, if we have the courage to pursue them.\",\n",
        "    \"In the midst of movement and chaos, keep stillness inside of you.\",\n",
        "    \"Always bear in mind that your own resolution to success is more important than any other one thing.\",\n",
        "    \"Success is not final; failure is not fatal: It is the courage to continue that counts.\",\n",
        "    \"Develop success from failures. Discouragement and failure are two of the surest stepping stones to success.\"\n",
        "]\n",
        "\n",
        "# Step 1: Preprocess and tokenize the documents\n",
        "def preprocess(doc):\n",
        "    # Convert to lowercase and remove non-alphabetic characters\n",
        "    return re.findall(r'\\b\\w+\\b', doc.lower())\n",
        "\n",
        "# Step 2: Compute Term Frequency (TF)\n",
        "def compute_tf(documents):\n",
        "    tf = {}\n",
        "    for doc in documents:\n",
        "        tokens = preprocess(doc)\n",
        "        tf_doc = {}\n",
        "        for word in tokens:\n",
        "            tf_doc[word] = tf_doc.get(word, 0) + 1\n",
        "        # Normalize the TF by dividing by the total number of terms in the document\n",
        "        total_terms = len(tokens)\n",
        "        for word in tf_doc:\n",
        "            tf_doc[word] /= total_terms\n",
        "        tf[doc] = tf_doc\n",
        "    return tf\n",
        "\n",
        "# Step 3: Compute Inverse Document Frequency (IDF)\n",
        "def compute_idf(documents):\n",
        "    idf = {}\n",
        "    total_docs = len(documents)\n",
        "    # Count the number of documents that contain each term\n",
        "    term_doc_count = {}\n",
        "    for doc in documents:\n",
        "        tokens = set(preprocess(doc))  # Use set to avoid double counting words in the same document\n",
        "        for word in tokens:\n",
        "            term_doc_count[word] = term_doc_count.get(word, 0) + 1\n",
        "\n",
        "    # Compute IDF for each term\n",
        "    for word, doc_count in term_doc_count.items():\n",
        "        idf[word] = math.log(total_docs / doc_count)\n",
        "    return idf\n",
        "\n",
        "# Step 4: Compute the TF-IDF matrix\n",
        "def compute_tfidf(tf, idf):\n",
        "    tfidf = {}\n",
        "    for doc, tf_doc in tf.items():\n",
        "        tfidf_doc = {}\n",
        "        for word, tf_value in tf_doc.items():\n",
        "            tfidf_doc[word] = tf_value * idf[word]\n",
        "        tfidf[doc] = tfidf_doc\n",
        "    return tfidf\n",
        "\n",
        "# Step 5: Compute Cosine Similarity\n",
        "def cosine_similarity(vec1, vec2):\n",
        "    # Get the common terms between the two vectors\n",
        "    all_terms = set(vec1.keys()).union(set(vec2.keys()))\n",
        "    dot_product = sum(vec1.get(term, 0) * vec2.get(term, 0) for term in all_terms)\n",
        "    norm1 = math.sqrt(sum(value ** 2 for value in vec1.values()))\n",
        "    norm2 = math.sqrt(sum(value ** 2 for value in vec2.values()))\n",
        "    return dot_product / (norm1 * norm2)\n",
        "\n",
        "# Step 6: Rank documents by cosine similarity to a query\n",
        "def rank_documents(query, tfidf, documents):\n",
        "    query_tokens = preprocess(query)\n",
        "\n",
        "    # Compute the TF for the query (using the same process as for the documents)\n",
        "    query_tf = {}\n",
        "    for word in query_tokens:\n",
        "        query_tf[word] = query_tf.get(word, 0) + 1\n",
        "    total_query_terms = len(query_tokens)\n",
        "    for word in query_tf:\n",
        "        query_tf[word] /= total_query_terms\n",
        "\n",
        "    # Calculate TF-IDF for the query\n",
        "    query_tfidf = {word: query_tf[word] * idf[word] for word in query_tf}\n",
        "\n",
        "    # Calculate cosine similarity for each document\n",
        "    similarities = []\n",
        "    for doc in documents:\n",
        "        doc_tfidf = tfidf.get(doc, {})\n",
        "        similarity = cosine_similarity(query_tfidf, doc_tfidf)\n",
        "        similarities.append((doc, similarity))\n",
        "\n",
        "    # Sort documents based on similarity (highest similarity first)\n",
        "    similarities.sort(key=lambda x: x[1], reverse=True)\n",
        "    return similarities\n",
        "\n",
        "# Preprocessing documents\n",
        "tf = compute_tf(documents)\n",
        "idf = compute_idf(documents)\n",
        "tfidf = compute_tfidf(tf, idf)\n",
        "\n",
        "# Define a query\n",
        "query = \"All our dreams can come true, if we have the courage to pursue them\"\n",
        "\n",
        "# Rank documents by cosine similarity to the query\n",
        "ranked_documents = rank_documents(query, tfidf, documents)\n",
        "\n",
        "# Display ranked documents\n",
        "print(\"Ranking of Documents based on the Query:\")\n",
        "for doc, similarity in ranked_documents:\n",
        "    print(f\"Document: {doc}\")\n",
        "    print(f\"Cosine Similarity: {similarity:.4f}\")\n",
        "    print(\"-\" * 50)\n"
      ]
    },
    {
      "cell_type": "markdown",
      "metadata": {
        "id": "1F_PZdH9Sh49"
      },
      "source": [
        "## Question 3 (25 points)\n",
        "\n",
        "**Create your own word embedding model**\n",
        "\n",
        "Use the data you collected for assignment 2 to build a word embedding model:\n",
        "\n",
        "(1) Train a 300-dimension word embedding (it can be word2vec, glove, ulmfit, bert, or others).\n",
        "\n",
        "(2) Visualize the word embedding model you created.\n",
        "\n",
        "Reference: https://machinelearningmastery.com/develop-word-embeddings-python-gensim/\n",
        "\n",
        "Reference: https://jaketae.github.io/study/word2vec/"
      ]
    },
    {
      "cell_type": "code",
      "execution_count": 12,
      "metadata": {
        "id": "eczZgyAoo05Q",
        "colab": {
          "base_uri": "https://localhost:8080/"
        },
        "outputId": "aed3c77c-4a9f-4d4b-8cc6-ae41abfc46a8"
      },
      "outputs": [
        {
          "output_type": "stream",
          "name": "stdout",
          "text": [
            "Requirement already satisfied: gensim in /usr/local/lib/python3.10/dist-packages (4.3.3)\n",
            "Requirement already satisfied: matplotlib in /usr/local/lib/python3.10/dist-packages (3.8.0)\n",
            "Requirement already satisfied: numpy<2.0,>=1.18.5 in /usr/local/lib/python3.10/dist-packages (from gensim) (1.26.4)\n",
            "Requirement already satisfied: scipy<1.14.0,>=1.7.0 in /usr/local/lib/python3.10/dist-packages (from gensim) (1.13.1)\n",
            "Requirement already satisfied: smart-open>=1.8.1 in /usr/local/lib/python3.10/dist-packages (from gensim) (7.0.5)\n",
            "Requirement already satisfied: contourpy>=1.0.1 in /usr/local/lib/python3.10/dist-packages (from matplotlib) (1.3.0)\n",
            "Requirement already satisfied: cycler>=0.10 in /usr/local/lib/python3.10/dist-packages (from matplotlib) (0.12.1)\n",
            "Requirement already satisfied: fonttools>=4.22.0 in /usr/local/lib/python3.10/dist-packages (from matplotlib) (4.54.1)\n",
            "Requirement already satisfied: kiwisolver>=1.0.1 in /usr/local/lib/python3.10/dist-packages (from matplotlib) (1.4.7)\n",
            "Requirement already satisfied: packaging>=20.0 in /usr/local/lib/python3.10/dist-packages (from matplotlib) (24.1)\n",
            "Requirement already satisfied: pillow>=6.2.0 in /usr/local/lib/python3.10/dist-packages (from matplotlib) (10.4.0)\n",
            "Requirement already satisfied: pyparsing>=2.3.1 in /usr/local/lib/python3.10/dist-packages (from matplotlib) (3.2.0)\n",
            "Requirement already satisfied: python-dateutil>=2.7 in /usr/local/lib/python3.10/dist-packages (from matplotlib) (2.8.2)\n",
            "Requirement already satisfied: six>=1.5 in /usr/local/lib/python3.10/dist-packages (from python-dateutil>=2.7->matplotlib) (1.16.0)\n",
            "Requirement already satisfied: wrapt in /usr/local/lib/python3.10/dist-packages (from smart-open>=1.8.1->gensim) (1.16.0)\n"
          ]
        }
      ],
      "source": [
        "pip install gensim matplotlib\n"
      ]
    },
    {
      "cell_type": "code",
      "source": [
        "import gensim\n",
        "import re\n",
        "from nltk.tokenize import word_tokenize\n",
        "from nltk.corpus import stopwords\n",
        "\n",
        "# Assuming 'data' contains your documents (e.g., reviews, abstracts, tweets)\n",
        "\n",
        "# Preprocess the text\n",
        "def preprocess_text(documents):\n",
        "    stop_words = set(stopwords.words('english'))\n",
        "    processed_docs = []\n",
        "\n",
        "    for doc in documents:\n",
        "        # Tokenize and clean up the text\n",
        "        tokens = word_tokenize(doc.lower())\n",
        "        tokens = [re.sub(r'[^a-zA-Z]', '', word) for word in tokens if word.isalpha()]\n",
        "        tokens = [word for word in tokens if word not in stop_words]\n",
        "        processed_docs.append(tokens)\n",
        "\n",
        "    return processed_docs\n",
        "\n",
        "# Example data (replace with your actual data)\n",
        "documents = [\n",
        "    \"This is an outstanding movie with a haunting performance and best character development.\",\n",
        "    \"A disappointing movie, with poor performance and weak character development.\",\n",
        "    \"An amazing movie that features stunning visuals and great performances.\"\n",
        "]\n",
        "\n",
        "processed_docs = preprocess_text(documents)\n"
      ],
      "metadata": {
        "id": "7cWs-tBVH144"
      },
      "execution_count": 13,
      "outputs": []
    },
    {
      "cell_type": "code",
      "source": [
        "# Train the Word2Vec model\n",
        "model = gensim.models.Word2Vec(sentences=processed_docs, vector_size=300, window=5, min_count=1, sg=1)\n",
        "\n",
        "# Save the model for later use\n",
        "model.save(\"word2vec_model.model\")\n"
      ],
      "metadata": {
        "id": "FCwHcCYhH65O"
      },
      "execution_count": 14,
      "outputs": []
    },
    {
      "cell_type": "code",
      "source": [
        "# Get the vector for a word (e.g., 'movie')\n",
        "word_vector = model.wv['movie']\n",
        "print(word_vector)\n"
      ],
      "metadata": {
        "colab": {
          "base_uri": "https://localhost:8080/"
        },
        "id": "gccUmlDXI4Dr",
        "outputId": "9e8522b6-e260-45cd-a03e-cc7473050512"
      },
      "execution_count": 15,
      "outputs": [
        {
          "output_type": "stream",
          "name": "stdout",
          "text": [
            "[-1.78742412e-04  7.88104517e-05  1.70111656e-03  3.00309109e-03\n",
            " -3.10098333e-03 -2.37226952e-03  2.15295749e-03  2.99099600e-03\n",
            " -1.67180935e-03 -1.25445728e-03  2.46016821e-03 -5.11157094e-04\n",
            " -1.51220441e-03  2.18468392e-03 -1.62005343e-03 -6.05339184e-04\n",
            "  9.58859921e-04  3.30624578e-04 -2.76173837e-03 -3.14960605e-03\n",
            "  2.43725535e-03  1.69008737e-03  2.25256453e-03  2.54288519e-04\n",
            "  2.11696350e-03 -1.13512203e-03 -3.15467129e-04  1.92285771e-03\n",
            " -2.50721257e-03 -1.31203455e-03 -2.50386074e-03 -3.10014089e-04\n",
            "  3.17937299e-03 -2.43972219e-03 -7.77922862e-04 -6.45913708e-04\n",
            "  2.69247894e-03 -1.97696523e-03  1.50541464e-05 -1.58457796e-03\n",
            " -3.20118340e-03  1.66909769e-03 -2.91986181e-03 -1.46394176e-03\n",
            " -1.16999945e-05 -9.87271487e-05 -2.55374680e-03  3.20491428e-03\n",
            "  1.66068599e-03  3.07771447e-03 -2.71930569e-03  1.49859942e-03\n",
            " -1.37902540e-03  2.74845370e-04  2.83287326e-03 -1.48739223e-03\n",
            "  1.50583347e-03 -2.26232014e-03 -1.18282950e-03  3.13283596e-03\n",
            " -5.25884214e-04  1.07123851e-04 -1.38020993e-03 -2.56089610e-03\n",
            " -5.02669427e-04  8.23264942e-04 -2.96008977e-04  1.84455398e-03\n",
            " -9.14325705e-04  7.53355038e-04  1.81859813e-03  2.78198440e-03\n",
            " -4.84580203e-04 -3.06938100e-03  1.45685079e-03  1.90594990e-04\n",
            "  2.48063612e-03 -2.71094235e-04 -8.79471307e-04 -2.91766971e-03\n",
            " -2.85518967e-04  9.42187733e-04  1.80047634e-03  2.35088542e-03\n",
            " -1.90104044e-03  6.19606581e-04  2.02962128e-03 -1.59935036e-03\n",
            " -1.03575352e-03  2.26587662e-03  5.43825212e-04  6.33056989e-05\n",
            "  1.15787901e-03  7.25924983e-05  3.20627540e-03  1.68686791e-03\n",
            " -2.97246338e-03 -2.34718691e-03  3.00485292e-04  2.13084463e-03\n",
            " -2.87322910e-03  1.22191268e-03  1.72996125e-03  1.91397942e-03\n",
            "  2.48897285e-03 -2.05589179e-03  3.68537905e-04  2.01576063e-03\n",
            " -9.46683460e-04 -2.05784081e-03 -1.36741000e-04 -2.78964965e-03\n",
            " -1.86667079e-03  2.36817962e-03  1.11751317e-03  2.40855664e-03\n",
            "  2.26674904e-03  2.51024729e-03 -1.26305141e-03 -1.87268655e-04\n",
            "  7.82792165e-04 -1.50634407e-03  2.79624388e-03 -3.28605459e-03\n",
            "  2.25488027e-03  9.71472240e-04 -1.64427713e-03  1.46606250e-03\n",
            " -5.79858199e-04  2.23712809e-03  3.32161668e-03 -1.45414786e-03\n",
            " -1.99779271e-04 -1.89854577e-03  1.28360745e-03  9.28875583e-04\n",
            "  2.29702541e-03  2.03369861e-03  3.17949895e-03  3.09113902e-03\n",
            "  2.63268943e-03 -2.32983474e-03 -3.05195502e-03 -1.18584234e-04\n",
            " -1.03328028e-03  2.63143890e-03  1.97952474e-03 -5.15220978e-04\n",
            "  5.03654475e-04  5.96680271e-04  2.60585709e-03 -3.17006232e-03\n",
            " -6.85103732e-05  1.15639891e-03 -3.12990742e-04  2.79392395e-03\n",
            "  3.00359447e-03  2.17883545e-03 -2.37207016e-04  2.57013482e-03\n",
            " -2.84477836e-03  1.06903550e-03 -1.54599908e-03 -1.69631839e-03\n",
            "  1.19653938e-03  1.79011305e-03  2.58983811e-03 -1.92216877e-03\n",
            "  2.47778697e-03  2.20849877e-03 -1.23660010e-03 -2.91521382e-03\n",
            "  1.81248900e-03  2.16991850e-03 -2.62516725e-04 -2.23661866e-03\n",
            " -2.36197514e-03 -8.32353428e-04  1.71441794e-03 -1.22174586e-03\n",
            " -3.12335324e-03  1.27557991e-03  1.62815966e-03 -2.14285450e-03\n",
            "  4.02852689e-04 -6.91625697e-04  8.13444422e-06 -3.29450285e-03\n",
            "  8.97334830e-04 -1.58336875e-03  3.62548832e-04 -5.25408192e-04\n",
            "  7.32224376e-04 -2.62719183e-03 -9.05727968e-04  8.87732895e-04\n",
            "  1.78222731e-03 -7.97171611e-04 -3.17003136e-03  1.50195952e-03\n",
            "  3.15213219e-05  1.02577324e-03 -2.27088179e-03 -4.58488474e-04\n",
            "  2.55619362e-03  2.44880328e-03 -1.22443237e-03  8.80900596e-04\n",
            " -2.77237664e-03  2.06849538e-03 -1.54577417e-03 -1.05470221e-03\n",
            "  3.10378545e-03  2.91128556e-04  2.49690097e-03 -2.02468759e-03\n",
            "  1.72016898e-03  3.30760749e-03 -2.81913043e-03 -1.71189709e-03\n",
            " -2.35494575e-03 -1.62088394e-03 -1.25952123e-03 -2.84539978e-03\n",
            "  2.65186862e-03 -1.61464617e-03  2.80787121e-03  1.75419007e-03\n",
            " -2.18334189e-03  1.31929037e-03  1.82338315e-03 -2.47551198e-03\n",
            " -2.46857316e-03 -8.25076888e-04 -2.87524192e-03 -5.27190743e-04\n",
            " -1.34477610e-04  1.09989487e-03  4.80626826e-04 -2.93807185e-04\n",
            " -1.86468603e-03  5.76788560e-04 -2.99123931e-04  2.26456369e-03\n",
            "  1.32452999e-03  1.50982384e-03  4.78101982e-04 -8.99951847e-04\n",
            " -1.45560422e-03 -3.44024884e-04  4.79009148e-04 -8.82002932e-04\n",
            " -2.35792762e-03 -2.60176905e-03 -3.04059545e-03 -1.97838992e-03\n",
            " -6.15808181e-04 -1.44129037e-03 -2.15355679e-03 -1.23910746e-03\n",
            "  1.42971950e-03 -1.24634779e-03  2.79272511e-03  5.11331134e-04\n",
            " -2.41410662e-03  3.14459950e-03  2.54373741e-03  1.83109404e-03\n",
            " -2.28294847e-03  1.94089289e-03  1.33636431e-03  1.72845647e-03\n",
            "  1.41863385e-03  6.46584842e-04 -1.05672085e-03  2.78461492e-03\n",
            "  3.20406002e-03  1.26420101e-03 -9.45665059e-04  2.37584118e-06\n",
            "  4.06272797e-04 -2.81944149e-03 -2.74131494e-03 -7.70052284e-05\n",
            "  4.12429188e-04 -1.91446021e-03 -1.57509127e-03 -2.44869152e-03\n",
            "  2.77620507e-03  4.04326129e-05 -1.50313298e-03  1.90056837e-03\n",
            "  3.06000514e-03 -1.36662403e-03  2.65489379e-03  1.79181143e-03\n",
            "  1.95970782e-03  1.70863466e-04  2.73769465e-03 -2.33968021e-03]\n"
          ]
        }
      ]
    },
    {
      "cell_type": "code",
      "source": [
        "import matplotlib.pyplot as plt\n",
        "from sklearn.manifold import TSNE\n",
        "import numpy as np\n",
        "\n",
        "# Get the word vectors\n",
        "words = list(model.wv.index_to_key)\n",
        "word_vectors = [model.wv[word] for word in words]\n",
        "\n",
        "# Convert the list of word vectors to a NumPy array\n",
        "word_vectors = np.array(word_vectors)\n",
        "\n",
        "# Reduce dimensions using t-SNE, setting perplexity lower than n_samples\n",
        "# Calculate a suitable perplexity (e.g., one-third of the number of samples)\n",
        "perplexity_value = min(len(words) - 1, 30) # Ensure perplexity is less than n_samples and capped at 30\n",
        "\n",
        "tsne = TSNE(n_components=2, random_state=42, perplexity=perplexity_value) # Set perplexity\n",
        "reduced_vectors = tsne.fit_transform(word_vectors)\n",
        "\n",
        "# Plot the word embeddings\n",
        "plt.figure(figsize=(10, 10))\n",
        "for i, word in enumerate(words):\n",
        "    plt.scatter(reduced_vectors[i, 0], reduced_vectors[i, 1])\n",
        "    plt.annotate(word, (reduced_vectors[i, 0], reduced_vectors[i, 1]))\n",
        "plt.show()"
      ],
      "metadata": {
        "colab": {
          "base_uri": "https://localhost:8080/",
          "height": 790
        },
        "id": "sWRYltJmI-j8",
        "outputId": "5f3820cb-86d7-49a0-b8c7-e22aa69fb06d"
      },
      "execution_count": 19,
      "outputs": [
        {
          "output_type": "display_data",
          "data": {
            "text/plain": [
              "<Figure size 1000x1000 with 1 Axes>"
            ],
            "image/png": "[encoded data removed]"
          },
          "metadata": {}
        }
      ]
    },
    {
      "cell_type": "code",
      "source": [
        "# Find words similar to 'movie'\n",
        "similar_words = model.wv.most_similar('movie', topn=10)\n",
        "print(similar_words)\n"
      ],
      "metadata": {
        "colab": {
          "base_uri": "https://localhost:8080/"
        },
        "id": "lKrYEZYHJgYu",
        "outputId": "66776cce-59a2-4d5a-95c8-54f3004fca7a"
      },
      "execution_count": 20,
      "outputs": [
        {
          "output_type": "stream",
          "name": "stdout",
          "text": [
            "[('weak', 0.08771836757659912), ('best', 0.08673557639122009), ('performance', 0.08134964853525162), ('amazing', 0.0495358370244503), ('character', 0.03316840901970863), ('haunting', 0.027224671095609665), ('great', 0.026316089555621147), ('performances', 0.015785740688443184), ('outstanding', 0.012577591463923454), ('stunning', 0.008682308718562126)]\n"
          ]
        }
      ]
    },
    {
      "cell_type": "markdown",
      "metadata": {
        "id": "DDoVp3aYoU8F"
      },
      "source": [
        "## Question 4 (20 Points)\n",
        "\n",
        "**Create your own training and evaluation data for sentiment analysis.**\n",
        "\n",
        " **You don't need to write program for this question!**\n",
        "\n",
        " For example, if you collected a movie review or a product review data, then you can do the following steps:\n",
        "\n",
        "*   Read each review (abstract or tweet) you collected in detail, and annotate each review with a sentiment (positive, negative, or neutral).\n",
        "\n",
        "*   Save the annotated dataset into a csv file with three columns (first column: document_id, clean_text, sentiment), upload the csv file to GitHub and submit the file link blew.\n",
        "\n",
        "*   This datset will be used for assignment four: sentiment analysis and text classification.\n"
      ]
    },
    {
      "cell_type": "code",
      "execution_count": null,
      "metadata": {
        "id": "DyK54UY6ompS"
      },
      "outputs": [],
      "source": [
        "# The GitHub link of your final csv file\n",
        "\n",
        "\n",
        "# Link:\n",
        "https://github.com/Chandru-018/Chandrasekhar_INFO5731_FALL2024/blob/main/Dataset%20exp.zip\n"
      ]
    },
    {
      "cell_type": "markdown",
      "metadata": {
        "id": "q8BFCvWp32cf"
      },
      "source": [
        "# Mandatory Question\n",
        "\n",
        "Provide your thoughts on the assignment. What did you find challenging, and what aspects did you enjoy? Your opinion on the provided time to complete the assignment."
      ]
    },
    {
      "cell_type": "code",
      "execution_count": null,
      "metadata": {
        "id": "sNXlsbrirHRo"
      },
      "outputs": [],
      "source": [
        "This assignment gave me an understanding on Team Frequency(TF), Inverse Document Frequency(IDF), Cosine Similarity, Latent Semantiv Analysis(LSA), BERTopic, Latent Dirichlet Allocation (LDA), Non-negative Matrix Factorization (NMF). I enjoyed learning all the topics which were taught in the class and the provided time is sufficient to complete thwe assignment."
      ]
    }
  ],
  "metadata": {
    "colab": {
      "provenance": [],
      "toc_visible": true,
      "include_colab_link": true
    },
    "kernelspec": {
      "display_name": "Python 3 (ipykernel)",
      "language": "python",
      "name": "python3"
    },
    "language_info": {
      "codemirror_mode": {
        "name": "ipython",
        "version": 3
      },
      "file_extension": ".py",
      "mimetype": "text/x-python",
      "name": "python",
      "nbconvert_exporter": "python",
      "pygments_lexer": "ipython3",
      "version": "3.9.12"
    }
  },
  "nbformat": 4,
  "nbformat_minor": 0
}